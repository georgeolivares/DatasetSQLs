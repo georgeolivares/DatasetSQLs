{
 "cells": [
  {
   "cell_type": "code",
   "execution_count": 133,
   "metadata": {},
   "outputs": [
    {
     "name": "stdout",
     "output_type": "stream",
     "text": [
      "Requirement already satisfied: pyodbc in c:\\users\\jorge\\anaconda3\\lib\\site-packages (4.0.0-unsupported)\n",
      "Note: you may need to restart the kernel to use updated packages.\n",
      "Connected\n"
     ]
    }
   ],
   "source": [
    "%pip install pyodbc\n",
    "\n",
    "import pyodbc\n",
    "import pandas as pd\n",
    "\n",
    "server = 'LAPTOP-USMIAD3A\\SQLEXPRESS'\n",
    "\n",
    "\n",
    "#Connect to existing database\n",
    "# connection = pyodbc.connect(\n",
    "#     'Driver={SQL Server};'\n",
    "#     'Server=LAPTOP-USMIAD3A\\SQLEXPRESS;'\n",
    "#     'Database=AdventureWorksDW2017;'\n",
    "#     'Trusted_Connection=yes;'\n",
    "# )\n",
    "\n",
    "#Connect To Server\n",
    "connection = pyodbc.connect(\n",
    "    'Driver={SQL Server};'\n",
    "    'Server=LAPTOP-USMIAD3A\\SQLEXPRESS;'\n",
    ")\n",
    "\n",
    "print(\"Connected\")"
   ]
  },
  {
   "cell_type": "code",
   "execution_count": 134,
   "metadata": {},
   "outputs": [],
   "source": [
    "def sql(query):\n",
    "    try:\n",
    "        cursor = connection.cursor()\n",
    "        cursor.execute(query)\n",
    "        connection.commit()\n",
    "        print(\"Done\")\n",
    "    except Exception as e:\n",
    "        print(f\"An error occurred: {e}\")"
   ]
  },
  {
   "cell_type": "code",
   "execution_count": 135,
   "metadata": {},
   "outputs": [
    {
     "name": "stdout",
     "output_type": "stream",
     "text": [
      "Done\n"
     ]
    }
   ],
   "source": [
    "# #Using cursor.execute\n",
    "# cursor.execute(\"SELECT TOP 10 FirstName FROM DimEmployee\")\n",
    "# results = cursor.fetchall()\n",
    "# for row in results:\n",
    "#     print(row)\n",
    "\n",
    "# #Using pd.read_sql\n",
    "# sql_query = \"SELECT TOP 10 * FROM DimEmployee\"\n",
    "# df = pd.read_sql(sql_query, connection)\n",
    "# df\n",
    "\n",
    "database=\"businessERP\"\n",
    "sql(\"CREATE DATABASE businessERP\")"
   ]
  },
  {
   "cell_type": "code",
   "execution_count": 136,
   "metadata": {},
   "outputs": [
    {
     "name": "stdout",
     "output_type": "stream",
     "text": [
      "Done\n"
     ]
    }
   ],
   "source": [
    "connection = pyodbc.connect(\n",
    "    'Driver={SQL Server};'\n",
    "    'Server=LAPTOP-USMIAD3A\\SQLEXPRESS;'\n",
    "    'Database=businessERP;'\n",
    "    'Trusted_Connection=yes;'\n",
    ")\n",
    "\n",
    "print(\"Done\")"
   ]
  },
  {
   "cell_type": "code",
   "execution_count": 137,
   "metadata": {},
   "outputs": [],
   "source": [
    "def pdsql(sql_query):\n",
    "    try:\n",
    "        df = pd.read_sql(sql_query, connection)\n",
    "        return df\n",
    "    \n",
    "    except Exception as e:\n",
    "        print(f\"An error occurred: {e}\")"
   ]
  },
  {
   "cell_type": "code",
   "execution_count": 138,
   "metadata": {},
   "outputs": [
    {
     "name": "stdout",
     "output_type": "stream",
     "text": [
      "Done\n"
     ]
    }
   ],
   "source": [
    "sql(\"CREATE TABLE company(companyID int, companyName varchar(200), createdDate DATETIME)\")"
   ]
  },
  {
   "cell_type": "code",
   "execution_count": 139,
   "metadata": {},
   "outputs": [
    {
     "name": "stdout",
     "output_type": "stream",
     "text": [
      "Done\n"
     ]
    }
   ],
   "source": [
    "sql(\"INSERT INTO company (companyID, companyName, createdDate) VALUES (1, 'Livepath', convert(datetime,'28-03-23 00:00:00 AM',5))\")"
   ]
  },
  {
   "cell_type": "code",
   "execution_count": 140,
   "metadata": {},
   "outputs": [
    {
     "data": {
      "text/html": [
       "<div>\n",
       "<style scoped>\n",
       "    .dataframe tbody tr th:only-of-type {\n",
       "        vertical-align: middle;\n",
       "    }\n",
       "\n",
       "    .dataframe tbody tr th {\n",
       "        vertical-align: top;\n",
       "    }\n",
       "\n",
       "    .dataframe thead th {\n",
       "        text-align: right;\n",
       "    }\n",
       "</style>\n",
       "<table border=\"1\" class=\"dataframe\">\n",
       "  <thead>\n",
       "    <tr style=\"text-align: right;\">\n",
       "      <th></th>\n",
       "      <th>companyID</th>\n",
       "      <th>companyName</th>\n",
       "      <th>createdDate</th>\n",
       "    </tr>\n",
       "  </thead>\n",
       "  <tbody>\n",
       "    <tr>\n",
       "      <th>0</th>\n",
       "      <td>1</td>\n",
       "      <td>Livepath</td>\n",
       "      <td>2023-03-28</td>\n",
       "    </tr>\n",
       "  </tbody>\n",
       "</table>\n",
       "</div>"
      ],
      "text/plain": [
       "   companyID companyName createdDate\n",
       "0          1    Livepath  2023-03-28"
      ]
     },
     "execution_count": 140,
     "metadata": {},
     "output_type": "execute_result"
    }
   ],
   "source": [
    "sql_query = \"SELECT TOP 2 * FROM company\"\n",
    "df = pd.read_sql(sql_query, connection)\n",
    "df"
   ]
  },
  {
   "cell_type": "code",
   "execution_count": 141,
   "metadata": {},
   "outputs": [
    {
     "name": "stdout",
     "output_type": "stream",
     "text": [
      "Done\n"
     ]
    }
   ],
   "source": [
    "sql(\"CREATE TABLE employees(employeeID int, first_name VARCHAR(200), last_name VARCHAR(200), email VARCHAR(200), gender VARCHAR(200), related_company INT)\")"
   ]
  },
  {
   "cell_type": "code",
   "execution_count": 142,
   "metadata": {},
   "outputs": [
    {
     "data": {
      "text/html": [
       "<div>\n",
       "<style scoped>\n",
       "    .dataframe tbody tr th:only-of-type {\n",
       "        vertical-align: middle;\n",
       "    }\n",
       "\n",
       "    .dataframe tbody tr th {\n",
       "        vertical-align: top;\n",
       "    }\n",
       "\n",
       "    .dataframe thead th {\n",
       "        text-align: right;\n",
       "    }\n",
       "</style>\n",
       "<table border=\"1\" class=\"dataframe\">\n",
       "  <thead>\n",
       "    <tr style=\"text-align: right;\">\n",
       "      <th></th>\n",
       "      <th>id</th>\n",
       "      <th>first_name</th>\n",
       "      <th>last_name</th>\n",
       "      <th>email</th>\n",
       "      <th>gender</th>\n",
       "      <th>related_company</th>\n",
       "    </tr>\n",
       "  </thead>\n",
       "  <tbody>\n",
       "    <tr>\n",
       "      <th>0</th>\n",
       "      <td>1</td>\n",
       "      <td>Bernie</td>\n",
       "      <td>Mogford</td>\n",
       "      <td>bmogford0@ow.ly</td>\n",
       "      <td>Male</td>\n",
       "      <td>1</td>\n",
       "    </tr>\n",
       "    <tr>\n",
       "      <th>1</th>\n",
       "      <td>2</td>\n",
       "      <td>Mignonne</td>\n",
       "      <td>Baumler</td>\n",
       "      <td>mbaumler1@google.com.au</td>\n",
       "      <td>Female</td>\n",
       "      <td>1</td>\n",
       "    </tr>\n",
       "    <tr>\n",
       "      <th>2</th>\n",
       "      <td>3</td>\n",
       "      <td>Kain</td>\n",
       "      <td>Chaney</td>\n",
       "      <td>kchaney2@usda.gov</td>\n",
       "      <td>Male</td>\n",
       "      <td>1</td>\n",
       "    </tr>\n",
       "    <tr>\n",
       "      <th>3</th>\n",
       "      <td>4</td>\n",
       "      <td>Templeton</td>\n",
       "      <td>Woodyer</td>\n",
       "      <td>twoodyer3@amazon.co.jp</td>\n",
       "      <td>Non-binary</td>\n",
       "      <td>1</td>\n",
       "    </tr>\n",
       "    <tr>\n",
       "      <th>4</th>\n",
       "      <td>5</td>\n",
       "      <td>Putnem</td>\n",
       "      <td>Singleton</td>\n",
       "      <td>psingleton4@google.com.br</td>\n",
       "      <td>Male</td>\n",
       "      <td>1</td>\n",
       "    </tr>\n",
       "  </tbody>\n",
       "</table>\n",
       "</div>"
      ],
      "text/plain": [
       "   id first_name  last_name                      email      gender  \\\n",
       "0   1     Bernie    Mogford            bmogford0@ow.ly        Male   \n",
       "1   2   Mignonne    Baumler    mbaumler1@google.com.au      Female   \n",
       "2   3       Kain     Chaney          kchaney2@usda.gov        Male   \n",
       "3   4  Templeton    Woodyer     twoodyer3@amazon.co.jp  Non-binary   \n",
       "4   5     Putnem  Singleton  psingleton4@google.com.br        Male   \n",
       "\n",
       "   related_company  \n",
       "0                1  \n",
       "1                1  \n",
       "2                1  \n",
       "3                1  \n",
       "4                1  "
      ]
     },
     "execution_count": 142,
     "metadata": {},
     "output_type": "execute_result"
    }
   ],
   "source": [
    "df = pd.read_csv(r'C:\\Users\\jorge\\Desktop\\DatasetSQLs\\employees.csv')\n",
    "\n",
    "df.head()"
   ]
  },
  {
   "cell_type": "code",
   "execution_count": 143,
   "metadata": {},
   "outputs": [],
   "source": [
    "cursor = connection.cursor()\n",
    "\n",
    "for row in df.itertuples():\n",
    "    cursor.execute(\"INSERT INTO businessERP.dbo.employees (employeeID, first_name, last_name, email, gender, related_company) VALUES (?, ?, ?, ?, ?, ?)\", \n",
    "                   row.id, row.first_name, row.last_name, row.email, row.gender, row.related_company)\n",
    "    \n",
    "connection.commit()"
   ]
  },
  {
   "cell_type": "code",
   "execution_count": 144,
   "metadata": {},
   "outputs": [
    {
     "data": {
      "text/html": [
       "<div>\n",
       "<style scoped>\n",
       "    .dataframe tbody tr th:only-of-type {\n",
       "        vertical-align: middle;\n",
       "    }\n",
       "\n",
       "    .dataframe tbody tr th {\n",
       "        vertical-align: top;\n",
       "    }\n",
       "\n",
       "    .dataframe thead th {\n",
       "        text-align: right;\n",
       "    }\n",
       "</style>\n",
       "<table border=\"1\" class=\"dataframe\">\n",
       "  <thead>\n",
       "    <tr style=\"text-align: right;\">\n",
       "      <th></th>\n",
       "      <th>employeeID</th>\n",
       "      <th>first_name</th>\n",
       "      <th>last_name</th>\n",
       "      <th>email</th>\n",
       "      <th>gender</th>\n",
       "      <th>related_company</th>\n",
       "    </tr>\n",
       "  </thead>\n",
       "  <tbody>\n",
       "    <tr>\n",
       "      <th>0</th>\n",
       "      <td>1</td>\n",
       "      <td>Bernie</td>\n",
       "      <td>Mogford</td>\n",
       "      <td>bmogford0@ow.ly</td>\n",
       "      <td>Male</td>\n",
       "      <td>1</td>\n",
       "    </tr>\n",
       "    <tr>\n",
       "      <th>1</th>\n",
       "      <td>2</td>\n",
       "      <td>Mignonne</td>\n",
       "      <td>Baumler</td>\n",
       "      <td>mbaumler1@google.com.au</td>\n",
       "      <td>Female</td>\n",
       "      <td>1</td>\n",
       "    </tr>\n",
       "    <tr>\n",
       "      <th>2</th>\n",
       "      <td>3</td>\n",
       "      <td>Kain</td>\n",
       "      <td>Chaney</td>\n",
       "      <td>kchaney2@usda.gov</td>\n",
       "      <td>Male</td>\n",
       "      <td>1</td>\n",
       "    </tr>\n",
       "    <tr>\n",
       "      <th>3</th>\n",
       "      <td>4</td>\n",
       "      <td>Templeton</td>\n",
       "      <td>Woodyer</td>\n",
       "      <td>twoodyer3@amazon.co.jp</td>\n",
       "      <td>Non-binary</td>\n",
       "      <td>1</td>\n",
       "    </tr>\n",
       "    <tr>\n",
       "      <th>4</th>\n",
       "      <td>5</td>\n",
       "      <td>Putnem</td>\n",
       "      <td>Singleton</td>\n",
       "      <td>psingleton4@google.com.br</td>\n",
       "      <td>Male</td>\n",
       "      <td>1</td>\n",
       "    </tr>\n",
       "    <tr>\n",
       "      <th>5</th>\n",
       "      <td>6</td>\n",
       "      <td>Darb</td>\n",
       "      <td>Gloster</td>\n",
       "      <td>dgloster5@mysql.com</td>\n",
       "      <td>Female</td>\n",
       "      <td>1</td>\n",
       "    </tr>\n",
       "    <tr>\n",
       "      <th>6</th>\n",
       "      <td>7</td>\n",
       "      <td>Hube</td>\n",
       "      <td>Lazare</td>\n",
       "      <td>hlazare6@npr.org</td>\n",
       "      <td>Male</td>\n",
       "      <td>1</td>\n",
       "    </tr>\n",
       "    <tr>\n",
       "      <th>7</th>\n",
       "      <td>8</td>\n",
       "      <td>Ina</td>\n",
       "      <td>Izsak</td>\n",
       "      <td>iizsak7@indiegogo.com</td>\n",
       "      <td>Female</td>\n",
       "      <td>1</td>\n",
       "    </tr>\n",
       "    <tr>\n",
       "      <th>8</th>\n",
       "      <td>9</td>\n",
       "      <td>Stinky</td>\n",
       "      <td>Helks</td>\n",
       "      <td>shelks8@is.gd</td>\n",
       "      <td>Male</td>\n",
       "      <td>1</td>\n",
       "    </tr>\n",
       "    <tr>\n",
       "      <th>9</th>\n",
       "      <td>10</td>\n",
       "      <td>Gannie</td>\n",
       "      <td>Worley</td>\n",
       "      <td>gworley9@usnews.com</td>\n",
       "      <td>Male</td>\n",
       "      <td>1</td>\n",
       "    </tr>\n",
       "  </tbody>\n",
       "</table>\n",
       "</div>"
      ],
      "text/plain": [
       "   employeeID first_name  last_name                      email      gender  \\\n",
       "0           1     Bernie    Mogford            bmogford0@ow.ly        Male   \n",
       "1           2   Mignonne    Baumler    mbaumler1@google.com.au      Female   \n",
       "2           3       Kain     Chaney          kchaney2@usda.gov        Male   \n",
       "3           4  Templeton    Woodyer     twoodyer3@amazon.co.jp  Non-binary   \n",
       "4           5     Putnem  Singleton  psingleton4@google.com.br        Male   \n",
       "5           6       Darb    Gloster        dgloster5@mysql.com      Female   \n",
       "6           7       Hube     Lazare           hlazare6@npr.org        Male   \n",
       "7           8        Ina      Izsak      iizsak7@indiegogo.com      Female   \n",
       "8           9     Stinky      Helks              shelks8@is.gd        Male   \n",
       "9          10     Gannie     Worley        gworley9@usnews.com        Male   \n",
       "\n",
       "   related_company  \n",
       "0                1  \n",
       "1                1  \n",
       "2                1  \n",
       "3                1  \n",
       "4                1  \n",
       "5                1  \n",
       "6                1  \n",
       "7                1  \n",
       "8                1  \n",
       "9                1  "
      ]
     },
     "execution_count": 144,
     "metadata": {},
     "output_type": "execute_result"
    }
   ],
   "source": [
    "pdsql(\"SELECT TOP 10 * FROM employees\")"
   ]
  },
  {
   "cell_type": "code",
   "execution_count": 145,
   "metadata": {},
   "outputs": [
    {
     "data": {
      "text/html": [
       "<div>\n",
       "<style scoped>\n",
       "    .dataframe tbody tr th:only-of-type {\n",
       "        vertical-align: middle;\n",
       "    }\n",
       "\n",
       "    .dataframe tbody tr th {\n",
       "        vertical-align: top;\n",
       "    }\n",
       "\n",
       "    .dataframe thead th {\n",
       "        text-align: right;\n",
       "    }\n",
       "</style>\n",
       "<table border=\"1\" class=\"dataframe\">\n",
       "  <thead>\n",
       "    <tr style=\"text-align: right;\">\n",
       "      <th></th>\n",
       "      <th>table_name</th>\n",
       "    </tr>\n",
       "  </thead>\n",
       "  <tbody>\n",
       "    <tr>\n",
       "      <th>0</th>\n",
       "      <td>company</td>\n",
       "    </tr>\n",
       "    <tr>\n",
       "      <th>1</th>\n",
       "      <td>employees</td>\n",
       "    </tr>\n",
       "  </tbody>\n",
       "</table>\n",
       "</div>"
      ],
      "text/plain": [
       "  table_name\n",
       "0    company\n",
       "1  employees"
      ]
     },
     "execution_count": 145,
     "metadata": {},
     "output_type": "execute_result"
    }
   ],
   "source": [
    "pdsql(\"SELECT table_name FROM INFORMATION_SCHEMA.TABLES\")"
   ]
  },
  {
   "cell_type": "code",
   "execution_count": 146,
   "metadata": {},
   "outputs": [],
   "source": [
    "#Delete database\n",
    "#sql(\"USE master; ALTER DATABASE businessERP SET SINGLE_USER WITH ROLLBACK IMMEDIATE; DROP DATABASE businessERP;\")"
   ]
  },
  {
   "cell_type": "code",
   "execution_count": 147,
   "metadata": {},
   "outputs": [],
   "source": [
    "connection.close()"
   ]
  }
 ],
 "metadata": {
  "kernelspec": {
   "display_name": "base",
   "language": "python",
   "name": "python3"
  },
  "language_info": {
   "codemirror_mode": {
    "name": "ipython",
    "version": 3
   },
   "file_extension": ".py",
   "mimetype": "text/x-python",
   "name": "python",
   "nbconvert_exporter": "python",
   "pygments_lexer": "ipython3",
   "version": "3.9.7"
  },
  "orig_nbformat": 4
 },
 "nbformat": 4,
 "nbformat_minor": 2
}
