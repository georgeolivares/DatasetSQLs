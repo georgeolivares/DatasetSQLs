{
 "cells": [
  {
   "cell_type": "code",
   "execution_count": 9,
   "metadata": {},
   "outputs": [
    {
     "name": "stdout",
     "output_type": "stream",
     "text": [
      "Requirement already satisfied: pyodbc in c:\\users\\jorge\\anaconda3\\lib\\site-packages (4.0.0-unsupported)\n",
      "Note: you may need to restart the kernel to use updated packages.\n",
      "Connected\n"
     ]
    }
   ],
   "source": [
    "%pip install pyodbc\n",
    "\n",
    "import pyodbc\n",
    "import pandas as pd\n",
    "\n",
    "server = 'LAPTOP-USMIAD3A\\SQLEXPRESS'\n",
    "\n",
    "\n",
    "#Connect to existing database\n",
    "# connection = pyodbc.connect(\n",
    "#     'Driver={SQL Server};'\n",
    "#     'Server=LAPTOP-USMIAD3A\\SQLEXPRESS;'\n",
    "#     'Database=AdventureWorksDW2017;'\n",
    "#     'Trusted_Connection=yes;'\n",
    "# )\n",
    "\n",
    "#Connect To Server\n",
    "connection = pyodbc.connect(\n",
    "    'Driver={SQL Server};'\n",
    "    'Server=LAPTOP-USMIAD3A\\SQLEXPRESS;'\n",
    ")\n",
    "\n",
    "print(\"Connected\")"
   ]
  },
  {
   "cell_type": "code",
   "execution_count": 6,
   "metadata": {},
   "outputs": [
    {
     "data": {
      "text/html": [
       "<div>\n",
       "<style scoped>\n",
       "    .dataframe tbody tr th:only-of-type {\n",
       "        vertical-align: middle;\n",
       "    }\n",
       "\n",
       "    .dataframe tbody tr th {\n",
       "        vertical-align: top;\n",
       "    }\n",
       "\n",
       "    .dataframe thead th {\n",
       "        text-align: right;\n",
       "    }\n",
       "</style>\n",
       "<table border=\"1\" class=\"dataframe\">\n",
       "  <thead>\n",
       "    <tr style=\"text-align: right;\">\n",
       "      <th></th>\n",
       "      <th>id</th>\n",
       "      <th>first_name</th>\n",
       "      <th>last_name</th>\n",
       "      <th>email</th>\n",
       "      <th>gender</th>\n",
       "      <th>related_company</th>\n",
       "    </tr>\n",
       "  </thead>\n",
       "  <tbody>\n",
       "    <tr>\n",
       "      <th>0</th>\n",
       "      <td>1</td>\n",
       "      <td>Bernie</td>\n",
       "      <td>Mogford</td>\n",
       "      <td>bmogford0@ow.ly</td>\n",
       "      <td>Male</td>\n",
       "      <td>1</td>\n",
       "    </tr>\n",
       "    <tr>\n",
       "      <th>1</th>\n",
       "      <td>2</td>\n",
       "      <td>Mignonne</td>\n",
       "      <td>Baumler</td>\n",
       "      <td>mbaumler1@google.com.au</td>\n",
       "      <td>Female</td>\n",
       "      <td>1</td>\n",
       "    </tr>\n",
       "    <tr>\n",
       "      <th>2</th>\n",
       "      <td>3</td>\n",
       "      <td>Kain</td>\n",
       "      <td>Chaney</td>\n",
       "      <td>kchaney2@usda.gov</td>\n",
       "      <td>Male</td>\n",
       "      <td>1</td>\n",
       "    </tr>\n",
       "    <tr>\n",
       "      <th>3</th>\n",
       "      <td>4</td>\n",
       "      <td>Templeton</td>\n",
       "      <td>Woodyer</td>\n",
       "      <td>twoodyer3@amazon.co.jp</td>\n",
       "      <td>Non-binary</td>\n",
       "      <td>1</td>\n",
       "    </tr>\n",
       "    <tr>\n",
       "      <th>4</th>\n",
       "      <td>5</td>\n",
       "      <td>Putnem</td>\n",
       "      <td>Singleton</td>\n",
       "      <td>psingleton4@google.com.br</td>\n",
       "      <td>Male</td>\n",
       "      <td>1</td>\n",
       "    </tr>\n",
       "  </tbody>\n",
       "</table>\n",
       "</div>"
      ],
      "text/plain": [
       "   id first_name  last_name                      email      gender  \\\n",
       "0   1     Bernie    Mogford            bmogford0@ow.ly        Male   \n",
       "1   2   Mignonne    Baumler    mbaumler1@google.com.au      Female   \n",
       "2   3       Kain     Chaney          kchaney2@usda.gov        Male   \n",
       "3   4  Templeton    Woodyer     twoodyer3@amazon.co.jp  Non-binary   \n",
       "4   5     Putnem  Singleton  psingleton4@google.com.br        Male   \n",
       "\n",
       "   related_company  \n",
       "0                1  \n",
       "1                1  \n",
       "2                1  \n",
       "3                1  \n",
       "4                1  "
      ]
     },
     "execution_count": 6,
     "metadata": {},
     "output_type": "execute_result"
    }
   ],
   "source": [
    "# dfEmployees = pd.read_csv(r'C:\\Users\\jorge\\OneDrive\\Escritorio\\Backup OneDrive\\DatasetSQLs\\employees.csv').head()\n",
    "\n",
    "# dfEmployees"
   ]
  },
  {
   "cell_type": "code",
   "execution_count": 10,
   "metadata": {},
   "outputs": [],
   "source": [
    "def sql(query):\n",
    "    try:\n",
    "        cursor = connection.cursor()\n",
    "        cursor.execute(query)\n",
    "        connection.commit()\n",
    "        print(\"Done\")\n",
    "    except Exception as e:\n",
    "        print(f\"An error occurred: {e}\")"
   ]
  },
  {
   "cell_type": "code",
   "execution_count": 11,
   "metadata": {},
   "outputs": [
    {
     "name": "stdout",
     "output_type": "stream",
     "text": [
      "Done\n"
     ]
    }
   ],
   "source": [
    "connection = pyodbc.connect(\n",
    "    'Driver={SQL Server};'\n",
    "    'Server=LAPTOP-USMIAD3A\\SQLEXPRESS;'\n",
    "    'Database=businessERP;'\n",
    "    'Trusted_Connection=yes;'\n",
    ")\n",
    "\n",
    "print(\"Done\")"
   ]
  },
  {
   "cell_type": "code",
   "execution_count": 17,
   "metadata": {},
   "outputs": [
    {
     "data": {
      "text/html": [
       "<div>\n",
       "<style scoped>\n",
       "    .dataframe tbody tr th:only-of-type {\n",
       "        vertical-align: middle;\n",
       "    }\n",
       "\n",
       "    .dataframe tbody tr th {\n",
       "        vertical-align: top;\n",
       "    }\n",
       "\n",
       "    .dataframe thead th {\n",
       "        text-align: right;\n",
       "    }\n",
       "</style>\n",
       "<table border=\"1\" class=\"dataframe\">\n",
       "  <thead>\n",
       "    <tr style=\"text-align: right;\">\n",
       "      <th></th>\n",
       "      <th>employee_id</th>\n",
       "      <th>first_name</th>\n",
       "      <th>last_name</th>\n",
       "      <th>email</th>\n",
       "      <th>related_company</th>\n",
       "    </tr>\n",
       "  </thead>\n",
       "  <tbody>\n",
       "  </tbody>\n",
       "</table>\n",
       "</div>"
      ],
      "text/plain": [
       "Empty DataFrame\n",
       "Columns: [employee_id, first_name, last_name, email, related_company]\n",
       "Index: []"
      ]
     },
     "execution_count": 17,
     "metadata": {},
     "output_type": "execute_result"
    }
   ],
   "source": [
    "sql_query = 'SELECT * FROM employees'\n",
    "\n",
    "pd.read_sql(sql_query, connection).head()"
   ]
  }
 ],
 "metadata": {
  "kernelspec": {
   "display_name": "base",
   "language": "python",
   "name": "python3"
  },
  "language_info": {
   "codemirror_mode": {
    "name": "ipython",
    "version": 3
   },
   "file_extension": ".py",
   "mimetype": "text/x-python",
   "name": "python",
   "nbconvert_exporter": "python",
   "pygments_lexer": "ipython3",
   "version": "3.9.7"
  },
  "orig_nbformat": 4
 },
 "nbformat": 4,
 "nbformat_minor": 2
}
